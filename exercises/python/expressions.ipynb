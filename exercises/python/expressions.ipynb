{
  "cells": [
    {
      "cell_type": "markdown",
      "metadata": {
        "id": "view-in-github",
        "colab_type": "text"
      },
      "source": [
        "<a href=\"https://colab.research.google.com/github/Leonkim879/Hello-World/blob/main/exercises/python/expressions.ipynb\" target=\"_parent\"><img src=\"https://colab.research.google.com/assets/colab-badge.svg\" alt=\"Open In Colab\"/></a>"
      ]
    },
    {
      "cell_type": "markdown",
      "source": [],
      "metadata": {
        "id": "3tbofOSYxIlC"
      },
      "id": "3tbofOSYxIlC"
    },
    {
      "cell_type": "markdown",
      "id": "loved-gallery",
      "metadata": {
        "id": "loved-gallery"
      },
      "source": [
        "# Expressions"
      ]
    },
    {
      "cell_type": "markdown",
      "id": "false-documentary",
      "metadata": {
        "id": "false-documentary"
      },
      "source": [
        "## Count Seconds in a Decade\n",
        "Write a Python program to calculate the number of seconds in 10 years. Assume that we have 2 leap years in this period. Assign the result into a variable named `seconds_in_10_years`."
      ]
    },
    {
      "cell_type": "code",
      "execution_count": 2,
      "id": "prescribed-faculty",
      "metadata": {
        "id": "prescribed-faculty",
        "outputId": "e0ee6d3a-2dd1-4d7c-8cc3-82334e8f9aeb",
        "colab": {
          "base_uri": "https://localhost:8080/"
        }
      },
      "outputs": [
        {
          "output_type": "stream",
          "name": "stdout",
          "text": [
            "315532800\n"
          ]
        }
      ],
      "source": [
        "#how many days are in 10 years.\n",
        "days_in_10_years=365*10+2 #we added 2 to count for leap years that have an extra day.\n",
        "seconds_in_day=24*60*60#hour*minutes*seconds\n",
        "seconds_in_10_years=seconds_in_day*days_in_10_years\n",
        "print (seconds_in_10_years)"
      ]
    },
    {
      "cell_type": "markdown",
      "id": "sealed-mouth",
      "metadata": {
        "id": "sealed-mouth"
      },
      "source": [
        "## Compute the Area of a Circle\n",
        "Write a Python program that computes the area of a circle based on a given radius. The area of circle can be computed by the following formula: $ a = \\pi r^2 $."
      ]
    },
    {
      "cell_type": "code",
      "execution_count": 7,
      "id": "amber-macedonia",
      "metadata": {
        "id": "amber-macedonia",
        "outputId": "8934b64c-12c3-440d-bb7d-cb0664035681",
        "colab": {
          "base_uri": "https://localhost:8080/"
        }
      },
      "outputs": [
        {
          "output_type": "stream",
          "name": "stdout",
          "text": [
            "78.55\n"
          ]
        }
      ],
      "source": [
        "#area of a circle\n",
        "radius=5\n",
        "pie=3.142\n",
        "area_of_a_circle=radius*radius*pie\n",
        "print(area_of_a_circle)"
      ]
    },
    {
      "cell_type": "markdown",
      "id": "attached-cleaning",
      "metadata": {
        "id": "attached-cleaning"
      },
      "source": [
        "## Compute Maximum of Numbers\n",
        "Write a Python program that computes the maximum of two inputs:\n",
        "- The first input should be the absolute of -4.\n",
        "- The second input should be the length of the string `\"abc\"`."
      ]
    },
    {
      "cell_type": "code",
      "execution_count": 17,
      "id": "aware-resort",
      "metadata": {
        "id": "aware-resort",
        "outputId": "4a68c6fc-351a-43dd-8a8f-50fdcba240c7",
        "colab": {
          "base_uri": "https://localhost:8080/"
        }
      },
      "outputs": [
        {
          "output_type": "execute_result",
          "data": {
            "text/plain": [
              "4"
            ]
          },
          "metadata": {},
          "execution_count": 17
        }
      ],
      "source": [
        "max(abs(-4),len(\"abc\"))\n"
      ]
    },
    {
      "cell_type": "markdown",
      "id": "cooperative-request",
      "metadata": {
        "id": "cooperative-request"
      },
      "source": [
        "## Compute Euclidean Distance\n",
        "Write a Python program to compute the Euclidean distance between two given points $ (x_1, y_1) $ and $ (x_2, y_2) $, which is $ \\sqrt{(x_1 - x_2)^2 + (y_1 - y_2)^2} $."
      ]
    },
    {
      "cell_type": "code",
      "execution_count": null,
      "id": "killing-shore",
      "metadata": {
        "id": "killing-shore"
      },
      "outputs": [],
      "source": []
    },
    {
      "cell_type": "markdown",
      "id": "color-texas",
      "metadata": {
        "id": "color-texas"
      },
      "source": [
        "## Convert Fahrenheit to Celsius\n",
        "Write a Python program to convert fahrenheit to celsius based on the the following formula: $ C = (F - 32) \\times \\frac{5}{9}. $"
      ]
    },
    {
      "cell_type": "code",
      "execution_count": null,
      "id": "broad-ordinary",
      "metadata": {
        "id": "broad-ordinary"
      },
      "outputs": [],
      "source": []
    },
    {
      "cell_type": "markdown",
      "id": "imported-yeast",
      "metadata": {
        "id": "imported-yeast"
      },
      "source": [
        "## Print User's Name\n",
        "Write a Python program which accepts the user's first and last name and prints them in reverse order with a space between them. For example, if the user enters `John Doe`, the program should print `Doe John`. Note that you can use the `input()` function to take user's inputs."
      ]
    },
    {
      "cell_type": "code",
      "execution_count": null,
      "id": "inner-arabic",
      "metadata": {
        "id": "inner-arabic"
      },
      "outputs": [],
      "source": []
    },
    {
      "cell_type": "markdown",
      "id": "3d187e0e",
      "metadata": {
        "id": "3d187e0e"
      },
      "source": [
        "## Read a Text File\n",
        "Write a Python program that opens a text file named `my_file.txt` and writes `Hello world!` in that file."
      ]
    },
    {
      "cell_type": "code",
      "execution_count": null,
      "id": "468bc699",
      "metadata": {
        "id": "468bc699"
      },
      "outputs": [],
      "source": []
    }
  ],
  "metadata": {
    "kernelspec": {
      "display_name": "Python 3",
      "language": "python",
      "name": "python3"
    },
    "language_info": {
      "codemirror_mode": {
        "name": "ipython",
        "version": 3
      },
      "file_extension": ".py",
      "mimetype": "text/x-python",
      "name": "python",
      "nbconvert_exporter": "python",
      "pygments_lexer": "ipython3",
      "version": "3.8.5"
    },
    "colab": {
      "provenance": [],
      "include_colab_link": true
    }
  },
  "nbformat": 4,
  "nbformat_minor": 5
}