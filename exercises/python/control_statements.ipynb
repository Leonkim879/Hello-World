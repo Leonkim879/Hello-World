{
  "cells": [
    {
      "cell_type": "markdown",
      "id": "broad-significance",
      "metadata": {
        "id": "broad-significance"
      },
      "source": [
        "# Control Statements"
      ]
    },
    {
      "cell_type": "markdown",
      "id": "mighty-picnic",
      "metadata": {
        "id": "mighty-picnic"
      },
      "source": [
        "## Check 2 Numbers are Dividable\n",
        "Write a Python prgoram that takes 2 numbers and prints whether the first one is dividable by the second one or not. For example, if the user inputs 10 and 5, the program should print `\"10 is dividable by 5\"`."
      ]
    },
    {
      "cell_type": "code",
      "execution_count": 18,
      "id": "everyday-league",
      "metadata": {
        "colab": {
          "base_uri": "https://localhost:8080/"
        },
        "id": "everyday-league",
        "outputId": "d1b1ab48-b12a-42b4-98df-42e80991abe2"
      },
      "outputs": [
        {
          "output_type": "stream",
          "name": "stdout",
          "text": [
            "10 is divisible by 5\n"
          ]
        }
      ],
      "source": [
        "a=10\n",
        "b=5\n",
        "if a%b==0:\n",
        "  print(f\"{a} is divisible by {b}\")\n",
        "else:\n",
        "  print(f\"{a}is not divisible by{b}\")\n",
        "\n"
      ]
    },
    {
      "cell_type": "markdown",
      "id": "certified-smell",
      "metadata": {
        "id": "certified-smell"
      },
      "source": [
        "## Check a Website Address Has .com\n",
        "Write a Python program that takes a website address and prints out whether it ends with `.com` or not. For example, given the string `\"www.google.com\"`, the program should print `\"www.google.com ends with .com\"`."
      ]
    },
    {
      "cell_type": "code",
      "execution_count": 26,
      "id": "framed-index",
      "metadata": {
        "colab": {
          "base_uri": "https://localhost:8080/"
        },
        "id": "framed-index",
        "outputId": "95f89574-d58f-4308-badd-72ad1a366a92"
      },
      "outputs": [
        {
          "output_type": "stream",
          "name": "stdout",
          "text": [
            "www.googlle.com ends without .com\n"
          ]
        }
      ],
      "source": [
        "#whether the website prints .com\n",
        "website=\"www.googlle.com\"\n",
        "\"www.google.com\".split(\",\")\n",
        "if website.split(\",\")[-1]==\"com\":\n",
        "  print(f\"{website} ends with.com\")\n",
        "else:\n",
        "  print(f\"{website} ends without .com\")\n",
        ""
      ]
    },
    {
      "cell_type": "markdown",
      "id": "lonely-hollow",
      "metadata": {
        "id": "lonely-hollow"
      },
      "source": [
        "## Remove Non-String List Elements\n",
        "Write a Python program that takes a list and create another list that only contains string elements of the first list. For example, given the list `[1, \"hello\", 4.3, True, \"bye\"]`, the program should define a list `[\"hello\", \"bye\"]`."
      ]
    },
    {
      "cell_type": "code",
      "execution_count": 43,
      "metadata": {
        "outputId": "31bb9650-e2cb-473d-caee-e0e79ba8c92a",
        "colab": {
          "base_uri": "https://localhost:8080/"
        },
        "id": "y3PcDKX-4EcY"
      },
      "outputs": [
        {
          "output_type": "stream",
          "name": "stdout",
          "text": [
            "hello\n",
            "bye\n"
          ]
        }
      ],
      "source": [
        "a=[1,\"hello\",4.3,True,\"bye\"]\n",
        "#for loop\n",
        "for i in a:\n",
        "  if type(i)==str:\n",
        "    print(i)\n",
        "\n",
        "\n",
        "\n"
      ],
      "id": "y3PcDKX-4EcY"
    },
    {
      "cell_type": "markdown",
      "id": "conceptual-lobby",
      "metadata": {
        "id": "conceptual-lobby"
      },
      "source": [
        "## Compare Numbers\n",
        "Write a Python program that takes an integer, compares it to a predefined number, and tells the user to guess a larger or smaller number. For example, suppose the predefined number is 10 and the user inputs 7. The program should print `\"7 is too small!\"`."
      ]
    },
    {
      "cell_type": "code",
      "execution_count": null,
      "metadata": {
        "colab": {
          "base_uri": "https://localhost:8080/"
        },
        "outputId": "078f025a-14ec-4e65-a332-681ee46597c1",
        "id": "7k1LXkIl9Q5j"
      },
      "outputs": [
        {
          "output_type": "stream",
          "name": "stdout",
          "text": [
            "40 is too large\n",
            "input:6\n",
            "6 is too small\n",
            "input:12\n",
            "12 is too large\n",
            "input:80\n",
            "80 is too large\n",
            "input:10\n",
            "10is correct\n"
          ]
        }
      ],
      "source": [
        "a=10\n",
        "while (a!=guess):\n",
        "  if a>guess:\n",
        "    print(f\"{guess} is too small\")\n",
        "  else:\n",
        "    print(f\"{guess} is too large\")\n",
        "  guess=int(input(\"input:\"))\n",
        "\n",
        "print(f\"{guess}is correct\")\n"
      ],
      "id": "7k1LXkIl9Q5j"
    },
    {
      "cell_type": "markdown",
      "id": "gorgeous-knitting",
      "metadata": {
        "id": "gorgeous-knitting"
      },
      "source": [
        "## Sum Even Numbers\n",
        "Write a Python program that computes the sum of even numbers in a given list of integers."
      ]
    },
    {
      "cell_type": "code",
      "execution_count": 68,
      "id": "artificial-professor",
      "metadata": {
        "colab": {
          "base_uri": "https://localhost:8080/"
        },
        "id": "artificial-professor",
        "outputId": "d71c6a6d-96cc-4076-c6f7-fbf75eb00b0c"
      },
      "outputs": [
        {
          "output_type": "stream",
          "name": "stdout",
          "text": [
            "282\n"
          ]
        }
      ],
      "source": [
        "from re import S\n",
        "S=0\n",
        "a=[1,13,2,24,46,78,76,56,43,31]\n",
        "for i in a:\n",
        "  if i%2==0:\n",
        "   S+=i\n",
        "print(S)"
      ]
    },
    {
      "cell_type": "markdown",
      "id": "e3044c58",
      "metadata": {
        "id": "e3044c58"
      },
      "source": [
        "## Find All Divisors\n",
        "Write a Python prgoram that find all divisors of a given positive integer and store them in a list. For example, given 10, the resulting list should be `[1, 2, 5, 10]`."
      ]
    },
    {
      "cell_type": "code",
      "execution_count": 71,
      "id": "9bee6850",
      "metadata": {
        "colab": {
          "base_uri": "https://localhost:8080/"
        },
        "id": "9bee6850",
        "outputId": "95b099ed-7825-425c-caf6-35d5853cacfd"
      },
      "outputs": [
        {
          "output_type": "stream",
          "name": "stdout",
          "text": [
            "1\n",
            "2\n",
            "3\n",
            "4\n",
            "6\n",
            "12\n"
          ]
        }
      ],
      "source": [
        "n=12\n",
        "divisors=[]\n",
        "for i in range(1,n+1): #start,step\n",
        "  if 12%i==0:\n",
        "    divisors.append(i)\n",
        "    print(i)\n"
      ]
    },
    {
      "cell_type": "markdown",
      "id": "41b462e9",
      "metadata": {
        "id": "41b462e9"
      },
      "source": [
        "## Find the Largest Word\n",
        "Write a Python program that finds the largest word in a given input string. For example, given the string `\"hello how are you\"`, the program should print `\"hello\"`."
      ]
    },
    {
      "cell_type": "code",
      "source": [
        "s=\"Write a Python program that finds the largest word in a given input string\"\n",
        "s_list=s.strip(\".\").split(\" \")\n",
        "\n",
        "largest_word=\"\"\n",
        "for word in s_list:\n",
        "  print(word)\n",
        "  if len(word)>len(largest_word):\n",
        "    largest_word=word\n",
        "  print(largest_word)\n",
        "print(largest_word, len(largest_word))\n"
      ],
      "metadata": {
        "id": "CUneGwn6CScf",
        "outputId": "77edf1c2-6c35-4086-d5be-84149b806754",
        "colab": {
          "base_uri": "https://localhost:8080/"
        }
      },
      "id": "CUneGwn6CScf",
      "execution_count": 77,
      "outputs": [
        {
          "output_type": "stream",
          "name": "stdout",
          "text": [
            "Write\n",
            "Write\n",
            "a\n",
            "Write\n",
            "Python\n",
            "Python\n",
            "program\n",
            "program\n",
            "that\n",
            "program\n",
            "finds\n",
            "program\n",
            "the\n",
            "program\n",
            "largest\n",
            "program\n",
            "word\n",
            "program\n",
            "in\n",
            "program\n",
            "a\n",
            "program\n",
            "given\n",
            "program\n",
            "input\n",
            "program\n",
            "string\n",
            "program\n",
            "program 7\n"
          ]
        }
      ]
    },
    {
      "cell_type": "markdown",
      "id": "3b71775e",
      "metadata": {
        "id": "3b71775e"
      },
      "source": [
        "## Count the Frequency of List Elements\n",
        "Write a Python program that counts the frequency of each element in a given list and store them in a dictionary. For example, given the list `[111, \"hello\", 222, \"hello\", 111]`, the program should define a dictionary `{111: 2, \"hello\": 2, 222: 1}`."
      ]
    },
    {
      "cell_type": "code",
      "execution_count": null,
      "id": "fdb69cdb",
      "metadata": {
        "id": "fdb69cdb"
      },
      "outputs": [],
      "source": []
    }
  ],
  "metadata": {
    "kernelspec": {
      "display_name": "Python 3",
      "language": "python",
      "name": "python3"
    },
    "language_info": {
      "codemirror_mode": {
        "name": "ipython",
        "version": 3
      },
      "file_extension": ".py",
      "mimetype": "text/x-python",
      "name": "python",
      "nbconvert_exporter": "python",
      "pygments_lexer": "ipython3",
      "version": "3.8.5"
    },
    "colab": {
      "provenance": []
    }
  },
  "nbformat": 4,
  "nbformat_minor": 5
}